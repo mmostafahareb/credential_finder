{
  "nbformat": 4,
  "nbformat_minor": 0,
  "metadata": {
    "colab": {
      "provenance": [],
      "machine_shape": "hm",
      "gpuType": "A100",
      "authorship_tag": "ABX9TyMqV5d/69J0coSdckvSAOYW",
      "include_colab_link": true
    },
    "kernelspec": {
      "name": "python3",
      "display_name": "Python 3"
    },
    "language_info": {
      "name": "python"
    },
    "accelerator": "GPU",
    "gpuClass": "standard"
  },
  "cells": [
    {
      "cell_type": "markdown",
      "metadata": {
        "id": "view-in-github",
        "colab_type": "text"
      },
      "source": [
        "<a href=\"https://colab.research.google.com/github/mmostafahareb/credential_finder/blob/main/Naive_bayes.ipynb\" target=\"_parent\"><img src=\"https://colab.research.google.com/assets/colab-badge.svg\" alt=\"Open In Colab\"/></a>"
      ]
    },
    {
      "cell_type": "markdown",
      "source": [
        "Imports:"
      ],
      "metadata": {
        "id": "s7pZonyCaykn"
      }
    },
    {
      "cell_type": "code",
      "source": [
        "import os\n",
        "import zipfile\n",
        "from sklearn.model_selection import train_test_split\n",
        "from sklearn.feature_extraction.text import TfidfVectorizer\n",
        "from sklearn.preprocessing import LabelEncoder\n",
        "import matplotlib.pyplot as plt\n",
        "import joblib"
      ],
      "metadata": {
        "id": "u7CAxaV_ag0_"
      },
      "execution_count": 8,
      "outputs": []
    },
    {
      "cell_type": "markdown",
      "source": [
        "Data Extracting and Labeling"
      ],
      "metadata": {
        "id": "WE8-e6zZagCw"
      }
    },
    {
      "cell_type": "code",
      "execution_count": 9,
      "metadata": {
        "id": "pvAlC4ZUKCnM",
        "colab": {
          "base_uri": "https://localhost:8080/"
        },
        "outputId": "4f7cb6b6-1d5e-4f31-d3eb-d4ec657a4c33"
      },
      "outputs": [
        {
          "output_type": "stream",
          "name": "stdout",
          "text": [
            "['Projects/Clean/main2.js', 'Projects/Clean/detect_make.py', 'Projects/Clean/Styled.tsx', 'Projects/Clean/index-1 (3).js', 'Projects/Clean/views.py', 'Projects/Clean/insertion_sort.py', 'Projects/Clean/acronym_generator.py', 'Projects/Clean/ClientHandler.java', 'Projects/Clean/Text_layout.js', 'Projects/Clean/Templatable.js', 'Projects/Clean/parse_pom.js', 'Projects/Clean/TaskRunner.js', 'Projects/Clean/indexing.py', 'Projects/Clean/euclid_gcd.py', 'Projects/Clean/SimilarityVSM.py', 'Projects/Clean/audio.py', 'Projects/Clean/Tablet.js', 'Projects/Clean/ToolbarDroppable.js', 'Projects/Clean/gui (2).py', 'Projects/Clean/InvertBinaryTree.java', 'Projects/Clean/stream.py', 'Projects/Clean/processing.py', 'Projects/Clean/admin.js', 'Projects/Clean/BinarySearch.java', 'Projects/Clean/TextArea_layout.js', 'Projects/Clean/test.py', 'Projects/Clean/products.js', 'Projects/Clean/mergeIntervals.js', 'Projects/Clean/AStarAlgorithm.java', 'Projects/Clean/HighestPowerOf2.java', 'Projects/Clean/arrayMonotonic.js', 'Projects/Clean/wsgi.py', 'Projects/Clean/script2.js', 'Projects/Clean/LoaderSpinner.tsx', 'Projects/Clean/classifiers.py', 'Projects/Clean/MergingTwoArrays.java', 'Projects/Clean/priorityQueue.js', 'Projects/Clean/TemplateBinding.js', 'Projects/Clean/DisjointSets.java', 'Projects/Clean/createStore.tsx', 'Projects/Clean/Timeline.js', 'Projects/Clean/Person.py', 'Projects/Clean/NextGreaterPermutation.java', 'Projects/Clean/_app.js', 'Projects/Clean/Tasks.js', 'Projects/Clean/PersonBucket.py', 'Projects/Clean/sliderImage.js', 'Projects/Clean/setupTests.js', 'Projects/Clean/uniqueChar.js', 'Projects/Clean/parse_packagelock.js', 'Projects/Clean/page1.py', 'Projects/Clean/Product-1.js', 'Projects/Clean/create.js', 'Projects/Clean/script10.js', 'Projects/Clean/Combinations.java', 'Projects/Clean/stack.js', 'Projects/Clean/SurfaceBase.js', 'Projects/Clean/Fibonacci.java', 'Projects/Clean/train_aux.py', 'Projects/Clean/models (2).py', 'Projects/Clean/chatgpt_python.py', 'Projects/Clean/armstrong.py', 'Projects/Clean/forms.py', 'Projects/Clean/Products-1.js', 'Projects/Clean/script11.js', 'Projects/Clean/imageSlider.js', 'Projects/Clean/apps (2).py', 'Projects/Clean/normalizeText.py', 'Projects/Clean/main111.js', 'Projects/Clean/heap_sort.py', 'Projects/Clean/mergeSortedLinkedLists.js', 'Projects/Clean/permutations.py', 'Projects/Clean/ReverseLinkedList.java', 'Projects/Clean/path.py', 'Projects/Clean/RootToLeafSum.java', 'Projects/Clean/script2 (2).js', 'Projects/Clean/Toggle.js', 'Projects/Clean/dijkstra.py', 'Projects/Clean/Toast.js', 'Projects/Clean/WagnerFisher.py', 'Projects/Clean/ensembleCharactervsDigit.py', 'Projects/Clean/triplets.js', 'Projects/Clean/serializers.py', 'Projects/Clean/utils (2).py', 'Projects/Clean/detect_car.py', 'Projects/Clean/LowestCommonAncestor.java', 'Projects/Clean/MultiplyStrings.java', 'Projects/Clean/MiddleNode.java', 'Projects/Clean/EventContext.tsx', 'Projects/Clean/auth-2.js', 'Projects/Clean/Tip.js', 'Projects/Clean/TCPClient.java', 'Projects/Clean/lasso_regression.ipynb', 'Projects/Clean/scan_third_parties.js', 'Projects/Clean/features.py', 'Projects/Clean/MileStone.py', 'Projects/Clean/Template.js', 'Projects/Clean/power_set.py', 'Projects/Clean/index (2).js', 'Projects/Clean/GeneratingSubsets.java', 'Projects/Clean/pomo.js', 'Projects/Clean/clusterAndEnsemble.py', 'Projects/Clean/Categories.js', 'Projects/Clean/CNNFromScratch.ipynb', 'Projects/Clean/page2.py', 'Projects/Clean/GroovyVulnExample1.groovy', 'Projects/Clean/TabReorderer.js', 'Projects/Clean/Title.js', 'Projects/Clean/LongestPalindromeSubstring.java', 'Projects/Clean/DequeDemo.java', 'Projects/Clean/TimeView.js', 'Projects/Clean/heap.js', 'Projects/Clean/App.tsx', 'Projects/Clean/Announcements.js', 'Projects/Clean/app.py', 'Projects/Clean/TouchAction.js', 'Projects/Clean/product.js', 'Projects/Clean/VSM.py', 'Projects/Clean/CycleInGraph.java', 'Projects/Clean/serializers (2).py', 'Projects/Clean/Vectors.py', 'Projects/Clean/__init__.py', 'Projects/Clean/gaussian_regression.ipynb', 'Projects/Clean/index-1 (2).js', 'Projects/Clean/deep_learning.ipynb', 'Projects/Clean/pascal_triangle.py', 'Projects/Clean/Symbol.js', 'Projects/Clean/suites.js', 'Projects/Clean/vid_stream.py', 'Projects/Clean/parse_gradle.js', 'Projects/Clean/carapi.py', 'Projects/Clean/script1.js', 'Projects/Clean/sort_stack_rec.py', 'Projects/Clean/reportWebVitals.js', 'Projects/Clean/LinkedListShifting.java', 'Projects/Clean/ValidIPAddresses.java', 'Projects/Clean/script.js', 'Projects/Clean/item-2.js', 'Projects/Clean/SvgContext.js', 'Projects/Clean/pattern_matching.py', 'Projects/Clean/LongestCommonSubsequence.java', 'Projects/Clean/Svg.js', 'Projects/Clean/models.py', 'Projects/Clean/random_forest.ipynb', 'Projects/Clean/Menu.tsx', 'Projects/Clean/ValidBST.java', 'Projects/Clean/pathSimilarity.py', 'Projects/Clean/ThreeLargestNumbers.java', 'Projects/Clean/scan_docker.js', 'Projects/Clean/TimingFunctions.js', 'Projects/Clean/admin.py', 'Projects/Clean/Target.js', 'Projects/Clean/auth-1.js', 'Projects/Clean/final.py', 'Projects/Clean/app (2).py', 'Projects/Clean/urls.py', 'Projects/Clean/main (4).py', 'Projects/Clean/TodosController.js', 'Projects/Clean/SignupForm.js', 'Projects/Clean/SortedArrayToBST.java', 'Projects/Clean/item.js', 'Projects/Clean/app-with-vmodel.js', 'Projects/Clean/SwapValues.java', 'Projects/Clean/page3.py', 'Projects/Clean/guitest.py', 'Projects/Clean/AdjacencyList.java', 'Projects/Clean/train.py', 'Projects/Clean/CustomComponent.tsx', 'Projects/Clean/TaskQueue.js', 'Projects/Clean/LargestRectangleArea.java', 'Projects/Clean/Tokenizer.js', 'Projects/Clean/parse_reqtext.js', 'Projects/Clean/queue.js', 'Projects/Clean/median_finder.py', 'Projects/Clean/BTInOrderTraversal.java', 'Projects/Clean/catalan.py', 'Projects/Clean/Time3D.js', 'Projects/Clean/apps.py', 'Projects/Clean/login.js', 'Projects/Clean/imageSlider.min.js', 'Projects/Clean/TableLayout.js', 'Projects/Clean/run_length_encoding.py', 'Projects/Clean/Todos.js', 'Projects/Clean/topological_sort.py', 'Projects/Clean/settings.py', 'Projects/Clean/SmallerNumbers.java', 'Projects/Clean/Tool.js', 'Projects/Clean/udp_echo_server.py', 'Projects/Clean/TimeHeader.js', 'Projects/Clean/server.js', 'Projects/Clean/FindLoop.java', 'Projects/Clean/kadane_algorithm.py', 'Projects/Clean/Text.js', 'Projects/Clean/app-with-tab-view.js', 'Projects/Clean/filter.py', 'Projects/Clean/AuthButton.tsx', 'Projects/Clean/index.js', 'Projects/Clean/detect_credentials.js', 'Projects/Clean/TextMetrics.js', 'Projects/Clean/Dots.js', 'Projects/Clean/SubTable.js', 'Projects/Clean/TaskBar.js', 'Projects/Clean/SecondSmallest.java', 'Projects/Clean/ContactUs.js', 'Projects/Clean/app-with-router.js', 'Projects/Clean/index.ts', 'Projects/Clean/get_all_dependencies.js', 'Projects/Clean/gui.py', 'Projects/Clean/Footer.js', 'Projects/Clean/scriptresults.js', 'Projects/Clean/perfect_number.py', 'Projects/Clean/udp_echo_client.py', 'Projects/Clean/DepthFirstSearchIter.java', 'Projects/Clean/Summaries.js', 'Projects/Clean/main (3).py', 'Projects/Clean/least_common_multiple.py', 'Projects/Clean/TableScroller.js', 'Projects/Clean/gray_codec.py', 'Projects/Clean/Swipe.js', 'Projects/Clean/Subscription.js', 'Projects/Clean/Time.js', 'Projects/Clean/PrimeFactorization.java', 'Projects/Clean/manage.py', 'Projects/Clean/Task.py', 'Projects/Clean/Trie.java', 'Projects/Clean/TitleBar.js', 'Projects/Clean/NQueensProblem.java', 'Projects/Clean/TextMeasurer.js', 'Projects/Clean/Tab.js', 'Projects/Clean/LoginForm.js', 'Projects/Clean/SliderContent.js', 'Projects/Clean/prefix_sum_array.py', 'Projects/Clean/destructureArrsObjs.js', 'Projects/Clean/Arrows.js', 'Projects/Clean/tests.py', 'Projects/Clean/QuickSort.java', 'Projects/Clean/test.js', 'Projects/Clean/idx_matching_value.py', 'Projects/Clean/paint.py', 'Projects/Clean/selectionSort.js', 'Projects/Clean/SortedMatrixSearch.java', 'Projects/Clean/script3 (2).js', 'Projects/Clean/MainTask.py', 'Projects/Clean/export.py', 'Projects/Clean/ToolTip.js', 'Projects/Clean/views (2).py', 'Projects/Clean/SudokuSolver.java', 'Projects/Clean/EfficientPower.java', 'Projects/Clean/TaskManager.js', 'Projects/Clean/App.css', 'Projects/Clean/LevenshteinDistance.java', 'Projects/Clean/HelloWorld.java', 'Projects/Clean/IterativeInOrderTraversal.java', 'Projects/Clean/KnapsackProblem.java', 'Projects/Clean/scan_source_code.js', 'Projects/Clean/ReactWebComponent.tsx', 'Projects/Clean/ForgotForm.js', 'Projects/Clean/script2 (3).js', 'Projects/Clean/totient.py', 'Projects/Clean/Scratch.java', 'Projects/Clean/urls (2).py', 'Projects/Clean/urls (3).py', 'Projects/Clean/SpiralTraversal.java', 'Projects/Clean/TicTacToe.js', 'Projects/Clean/Tick.js', 'Projects/Clean/script3.js', 'Projects/Clean/asgi.py', 'Projects/Clean/Server.java', 'Projects/Clean/useAsyncStore.ts', 'Projects/Clean/CountingSort.java', 'Projects/Clean/Header.js', 'Projects/Clean/utils (3).py', 'Projects/Clean/clustering.py', 'Projects/Clean/UDPServer.java', 'Projects/Clean/CategoryItem.js', 'Projects/Clean/Transaction.js', 'Projects/Clean/palindrome.py', 'Projects/Clean/createAsyncStore.tsx', 'Projects/Clean/GroovyVulnExample2.groovy', 'Projects/Clean/FirstDuplicateValue.java', 'Projects/Clean/GenerateParentheses.java', 'Projects/Clean/grouping_symbols_matching.py', 'Projects/Clean/save.py', 'Projects/Clean/mostFrequentElements.js', 'Projects/Clean/GroovyVulnExample3.groovy', 'Projects/Clean/index.tsx', 'Projects/Clean/app-with-list-view.js', 'Projects/Clean/app.js', 'Projects/Clean/IR.py', 'Projects/Clean/TreeEditDistance.py', 'Projects/Clean/parse_piplock.js', 'Projects/Clean/TCPServer.java', 'Projects/Clean/climbingStairs.js', 'Projects/Clean/Wheel.tsx', 'Projects/Clean/three_largest.py', 'Projects/Clean/BinaryTreeDiameter.java', 'Projects/Clean/BreadthFirstSearch.java', 'Projects/Clean/lru_cache.py', 'Projects/Clean/Slider.js', 'Projects/Clean/Tap.js', 'Projects/Clean/TextArea.js', 'Projects/Clean/SmallestLargerThanTarget.java', 'Projects/Clean/script (2).js', 'Projects/Clean/Product-1 - Copy.js', 'Projects/Clean/nlp.py', 'Projects/Clean/anagram.js', 'Projects/Clean/Client.java', 'Projects/Clean/auth.js', 'Projects/Clean/useStore.ts', 'Projects/Clean/main.js', 'Projects/Clean/preprocess.py', 'Projects/Clean/TED.py', 'Projects/Clean/index-1.js', 'Projects/Clean/TagKeyNav.js', 'Projects/Clean/TopMovie.js', 'Projects/Clean/script6.js', 'Projects/Clean/hubconf.py', 'Projects/Clean/Main.py', 'Projects/Clean/main (2).py', 'Projects/Clean/utils.py', 'Projects/Clean/script5.js', 'Projects/Clean/plot.py', 'Projects/Clean/tcp_echo_server.py', 'Projects/Clean/TowersOfHanoi.java', 'Projects/Clean/Table.js', 'Projects/Clean/TextItem.js', 'Projects/Clean/bubble_sorting.py', 'Projects/Clean/tcp_echo_client.py', 'Projects/Clean/sieve_of_eratosthenes.py', 'Projects/Clean/boyer_moore.py', 'Projects/Clean/NumberOfIslands.java', 'Projects/Clean/addDOMElts.js', 'Projects/Clean/SummaryRow.js', 'Projects/Clean/patching.py', 'Projects/Clean/script12.js', 'Projects/Clean/TabScrollerMenu.js', 'Projects/Clean/disarium_number.py', 'Projects/Clean/script4.js', 'Projects/Clean/Surface.js', 'Projects/Clean/register.js', 'Projects/Clean/_document.js', 'Projects/Clean/Tag.js', 'Projects/Clean/Sum.js', 'Projects/Clean/UDPClient.java', 'Projects/Clean/BSTSearch.java', 'Projects/Clean/mergeSort.js', 'Projects/Clean/ridge_regression.ipynb', 'Projects/Clean/Project.py', 'Projects/Clean/Toolable.js', 'Projects/Clean/Thumb.js', 'Projects/Dirty/41.txt', 'Projects/Dirty/28.txt', 'Projects/Dirty/60.txt', 'Projects/Dirty/57.txt', 'Projects/Dirty/34.txt', 'Projects/Dirty/72.txt', 'Projects/Dirty/102.txt', 'Projects/Dirty/32.txt', 'Projects/Dirty/12.txt', 'Projects/Dirty/73.txt', 'Projects/Dirty/58.txt', 'Projects/Dirty/8.txt', 'Projects/Dirty/3.txt', 'Projects/Dirty/25.txt', 'Projects/Dirty/92.txt', 'Projects/Dirty/82.txt', 'Projects/Dirty/99.txt', 'Projects/Dirty/54.txt', 'Projects/Dirty/59.txt', 'Projects/Dirty/89.txt', 'Projects/Dirty/39.txt', 'Projects/Dirty/105.txt', 'Projects/Dirty/70.txt', 'Projects/Dirty/1.txt', 'Projects/Dirty/18.txt', 'Projects/Dirty/.DS_Store', 'Projects/Dirty/47.txt', 'Projects/Dirty/69.txt', 'Projects/Dirty/27.txt', 'Projects/Dirty/52.txt', 'Projects/Dirty/29.txt', 'Projects/Dirty/67.txt', 'Projects/Dirty/21.txt', 'Projects/Dirty/90.txt', 'Projects/Dirty/96.txt', 'Projects/Dirty/30.txt', 'Projects/Dirty/23.txt', 'Projects/Dirty/38.txt', 'Projects/Dirty/22.txt', 'Projects/Dirty/48.txt', 'Projects/Dirty/14.txt', 'Projects/Dirty/7.txt', 'Projects/Dirty/77.txt', 'Projects/Dirty/46.txt', 'Projects/Dirty/35.txt', 'Projects/Dirty/88.txt', 'Projects/Dirty/4.txt', 'Projects/Dirty/74.txt', 'Projects/Dirty/45.txt', 'Projects/Dirty/6.txt', 'Projects/Dirty/33.txt', 'Projects/Dirty/65.txt', 'Projects/Dirty/10.txt', 'Projects/Dirty/31.txt', 'Projects/Dirty/83.txt', 'Projects/Dirty/78.txt', 'Projects/Dirty/26.txt', 'Projects/Dirty/43.txt', 'Projects/Dirty/87.txt', 'Projects/Dirty/93.txt', 'Projects/Dirty/36.txt', 'Projects/Dirty/42.txt', 'Projects/Dirty/68.txt', 'Projects/Dirty/17.txt', 'Projects/Dirty/79.txt', 'Projects/Dirty/76.txt', 'Projects/Dirty/5.txt', 'Projects/Dirty/40.txt', 'Projects/Dirty/24.txt', 'Projects/Dirty/37.txt', 'Projects/Dirty/84.txt', 'Projects/Dirty/61.txt', 'Projects/Dirty/71.txt', 'Projects/Dirty/97.txt', 'Projects/Dirty/81.txt', 'Projects/Dirty/20.txt', 'Projects/Dirty/95.txt', 'Projects/Dirty/94.txt', 'Projects/Dirty/98.txt', 'Projects/Dirty/15.txt', 'Projects/Dirty/62.txt', 'Projects/Dirty/100.txt', 'Projects/Dirty/55.txt', 'Projects/Dirty/50.txt', 'Projects/Dirty/101.txt', 'Projects/Dirty/80.txt', 'Projects/Dirty/16.txt', 'Projects/Dirty/44.txt', 'Projects/Dirty/85.txt', 'Projects/Dirty/104.txt', 'Projects/Dirty/56.txt', 'Projects/Dirty/19.txt', 'Projects/Dirty/91.txt', 'Projects/Dirty/13.txt', 'Projects/Dirty/75.txt', 'Projects/Dirty/66.txt', 'Projects/Dirty/86.txt', 'Projects/Dirty/53.txt', 'Projects/Dirty/51.txt', 'Projects/Dirty/63.txt', 'Projects/Dirty/64.txt', 'Projects/Dirty/9.txt', 'Projects/Dirty/2.txt', 'Projects/Dirty/103.txt', 'Projects/Dirty/49.txt', 'Projects/Dirty/11.txt']\n",
            "['clean', 'clean', 'clean', 'clean', 'clean', 'clean', 'clean', 'clean', 'clean', 'clean', 'clean', 'clean', 'clean', 'clean', 'clean', 'clean', 'clean', 'clean', 'clean', 'clean', 'clean', 'clean', 'clean', 'clean', 'clean', 'clean', 'clean', 'clean', 'clean', 'clean', 'clean', 'clean', 'clean', 'clean', 'clean', 'clean', 'clean', 'clean', 'clean', 'clean', 'clean', 'clean', 'clean', 'clean', 'clean', 'clean', 'clean', 'clean', 'clean', 'clean', 'clean', 'clean', 'clean', 'clean', 'clean', 'clean', 'clean', 'clean', 'clean', 'clean', 'clean', 'clean', 'clean', 'clean', 'clean', 'clean', 'clean', 'clean', 'clean', 'clean', 'clean', 'clean', 'clean', 'clean', 'clean', 'clean', 'clean', 'clean', 'clean', 'clean', 'clean', 'clean', 'clean', 'clean', 'clean', 'clean', 'clean', 'clean', 'clean', 'clean', 'clean', 'clean', 'clean', 'clean', 'clean', 'clean', 'clean', 'clean', 'clean', 'clean', 'clean', 'clean', 'clean', 'clean', 'clean', 'clean', 'clean', 'clean', 'clean', 'clean', 'clean', 'clean', 'clean', 'clean', 'clean', 'clean', 'clean', 'clean', 'clean', 'clean', 'clean', 'clean', 'clean', 'clean', 'clean', 'clean', 'clean', 'clean', 'clean', 'clean', 'clean', 'clean', 'clean', 'clean', 'clean', 'clean', 'clean', 'clean', 'clean', 'clean', 'clean', 'clean', 'clean', 'clean', 'clean', 'clean', 'clean', 'clean', 'clean', 'clean', 'clean', 'clean', 'clean', 'clean', 'clean', 'clean', 'clean', 'clean', 'clean', 'clean', 'clean', 'clean', 'clean', 'clean', 'clean', 'clean', 'clean', 'clean', 'clean', 'clean', 'clean', 'clean', 'clean', 'clean', 'clean', 'clean', 'clean', 'clean', 'clean', 'clean', 'clean', 'clean', 'clean', 'clean', 'clean', 'clean', 'clean', 'clean', 'clean', 'clean', 'clean', 'clean', 'clean', 'clean', 'clean', 'clean', 'clean', 'clean', 'clean', 'clean', 'clean', 'clean', 'clean', 'clean', 'clean', 'clean', 'clean', 'clean', 'clean', 'clean', 'clean', 'clean', 'clean', 'clean', 'clean', 'clean', 'clean', 'clean', 'clean', 'clean', 'clean', 'clean', 'clean', 'clean', 'clean', 'clean', 'clean', 'clean', 'clean', 'clean', 'clean', 'clean', 'clean', 'clean', 'clean', 'clean', 'clean', 'clean', 'clean', 'clean', 'clean', 'clean', 'clean', 'clean', 'clean', 'clean', 'clean', 'clean', 'clean', 'clean', 'clean', 'clean', 'clean', 'clean', 'clean', 'clean', 'clean', 'clean', 'clean', 'clean', 'clean', 'clean', 'clean', 'clean', 'clean', 'clean', 'clean', 'clean', 'clean', 'clean', 'clean', 'clean', 'clean', 'clean', 'clean', 'clean', 'clean', 'clean', 'clean', 'clean', 'clean', 'clean', 'clean', 'clean', 'clean', 'clean', 'clean', 'clean', 'clean', 'clean', 'clean', 'clean', 'clean', 'clean', 'clean', 'clean', 'clean', 'clean', 'clean', 'clean', 'clean', 'clean', 'clean', 'clean', 'clean', 'clean', 'clean', 'clean', 'clean', 'clean', 'clean', 'clean', 'clean', 'clean', 'clean', 'clean', 'clean', 'clean', 'clean', 'clean', 'clean', 'clean', 'clean', 'clean', 'clean', 'clean', 'clean', 'clean', 'clean', 'clean', 'clean', 'clean', 'clean', 'clean', 'clean', 'clean', 'clean', 'clean', 'clean', 'clean', 'clean', 'clean', 'clean', 'clean', 'clean', 'clean', 'clean', 'clean', 'clean', 'clean', 'dirty', 'dirty', 'dirty', 'dirty', 'dirty', 'dirty', 'dirty', 'dirty', 'dirty', 'dirty', 'dirty', 'dirty', 'dirty', 'dirty', 'dirty', 'dirty', 'dirty', 'dirty', 'dirty', 'dirty', 'dirty', 'dirty', 'dirty', 'dirty', 'dirty', 'dirty', 'dirty', 'dirty', 'dirty', 'dirty', 'dirty', 'dirty', 'dirty', 'dirty', 'dirty', 'dirty', 'dirty', 'dirty', 'dirty', 'dirty', 'dirty', 'dirty', 'dirty', 'dirty', 'dirty', 'dirty', 'dirty', 'dirty', 'dirty', 'dirty', 'dirty', 'dirty', 'dirty', 'dirty', 'dirty', 'dirty', 'dirty', 'dirty', 'dirty', 'dirty', 'dirty', 'dirty', 'dirty', 'dirty', 'dirty', 'dirty', 'dirty', 'dirty', 'dirty', 'dirty', 'dirty', 'dirty', 'dirty', 'dirty', 'dirty', 'dirty', 'dirty', 'dirty', 'dirty', 'dirty', 'dirty', 'dirty', 'dirty', 'dirty', 'dirty', 'dirty', 'dirty', 'dirty', 'dirty', 'dirty', 'dirty', 'dirty', 'dirty', 'dirty', 'dirty', 'dirty', 'dirty', 'dirty', 'dirty', 'dirty', 'dirty', 'dirty', 'dirty', 'dirty', 'dirty', 'dirty']\n"
          ]
        }
      ],
      "source": [
        "zip_path = \"projects.zip\"\n",
        "extract_dir = \"Projects\"\n",
        "with zipfile.ZipFile(zip_path, 'r') as zip_ref:\n",
        "    zip_ref.extractall(\".\")\n",
        "\n",
        "\n",
        "clean_dir = os.path.join(extract_dir, 'Clean')\n",
        "dirty_dir = os.path.join(extract_dir, 'Dirty')\n",
        "\n",
        "file_paths = []\n",
        "labels = []\n",
        "\n",
        "# Get all file paths and labels for clean files\n",
        "for filename in os.listdir(clean_dir):\n",
        "    file_paths.append(os.path.join(clean_dir, filename))\n",
        "    labels.append('clean')\n",
        "\n",
        "# Get all file paths and labels for dirty files\n",
        "for filename in os.listdir(dirty_dir):\n",
        "    file_paths.append(os.path.join(dirty_dir, filename))\n",
        "    labels.append('dirty')\n",
        "\n",
        "# Now you have a list of file paths and corresponding labels\n",
        "print(file_paths)\n",
        "print(labels)"
      ]
    },
    {
      "cell_type": "markdown",
      "source": [
        "Data Preprocessing:"
      ],
      "metadata": {
        "id": "9eBBUReCbYDw"
      }
    },
    {
      "cell_type": "code",
      "source": [
        "file_contents = []\n",
        "for file_path in file_paths:\n",
        "    with open(file_path, 'r',errors='ignore') as file:\n",
        "        file_contents.append(file.read())\n",
        "\n",
        "X_train, X_test, y_train, y_test = train_test_split(file_contents, labels, test_size=0.2, random_state=42)\n",
        "vectorizer = TfidfVectorizer()\n",
        "X_train_vectorized = vectorizer.fit_transform(X_train).toarray()\n",
        "X_test_vectorized = vectorizer.transform(X_test).toarray()\n",
        "print(X_train_vectorized.shape)\n",
        "print(X_test_vectorized.shape)\n",
        "encoder = LabelEncoder()\n",
        "y_train_encoded = encoder.fit_transform(y_train)\n",
        "y_test_encoded = encoder.transform(y_test)\n"
      ],
      "metadata": {
        "id": "FulKyS7yaWGJ",
        "colab": {
          "base_uri": "https://localhost:8080/"
        },
        "outputId": "40579254-990f-4c40-b60a-dc7a4d41fbf9"
      },
      "execution_count": 10,
      "outputs": [
        {
          "output_type": "stream",
          "name": "stdout",
          "text": [
            "(364, 14508)\n",
            "(92, 14508)\n"
          ]
        }
      ]
    },
    {
      "cell_type": "markdown",
      "source": [
        "\n",
        "\n",
        "LTSM Model Building:\n",
        "\n"
      ],
      "metadata": {
        "id": "Q__p1cdtbdq1"
      }
    },
    {
      "cell_type": "code",
      "source": [
        "from sklearn.naive_bayes import MultinomialNB\n",
        "from sklearn.model_selection import KFold, GridSearchCV\n",
        "from sklearn.metrics import classification_report, confusion_matrix\n",
        "import matplotlib.pyplot as plt\n",
        "import numpy as np\n",
        "\n",
        "# Create the Naive Bayes model\n",
        "model = MultinomialNB()\n",
        "\n",
        "# Define the parameter grid for GridSearchCV\n",
        "param_grid = {\n",
        "    'alpha': [0.1, 0.5, 1.0],  # Add more alpha values as needed\n",
        "}\n",
        "\n",
        "# Create the KFold cross-validation object\n",
        "kf = KFold(n_splits=5, shuffle=True, random_state=42)\n",
        "\n",
        "# Perform GridSearchCV to find the best hyperparameters\n",
        "grid_search = GridSearchCV(model, param_grid, cv=kf, scoring='accuracy')\n",
        "grid_search.fit(X_train_vectorized, y_train_encoded)\n",
        "\n",
        "\n"
      ],
      "metadata": {
        "id": "nDMh8nidbiAc",
        "colab": {
          "base_uri": "https://localhost:8080/",
          "height": 118
        },
        "outputId": "b4a63ce8-2181-4bea-e350-97f432690226"
      },
      "execution_count": 11,
      "outputs": [
        {
          "output_type": "execute_result",
          "data": {
            "text/plain": [
              "GridSearchCV(cv=KFold(n_splits=5, random_state=42, shuffle=True),\n",
              "             estimator=MultinomialNB(), param_grid={'alpha': [0.1, 0.5, 1.0]},\n",
              "             scoring='accuracy')"
            ],
            "text/html": [
              "<style>#sk-container-id-2 {color: black;background-color: white;}#sk-container-id-2 pre{padding: 0;}#sk-container-id-2 div.sk-toggleable {background-color: white;}#sk-container-id-2 label.sk-toggleable__label {cursor: pointer;display: block;width: 100%;margin-bottom: 0;padding: 0.3em;box-sizing: border-box;text-align: center;}#sk-container-id-2 label.sk-toggleable__label-arrow:before {content: \"▸\";float: left;margin-right: 0.25em;color: #696969;}#sk-container-id-2 label.sk-toggleable__label-arrow:hover:before {color: black;}#sk-container-id-2 div.sk-estimator:hover label.sk-toggleable__label-arrow:before {color: black;}#sk-container-id-2 div.sk-toggleable__content {max-height: 0;max-width: 0;overflow: hidden;text-align: left;background-color: #f0f8ff;}#sk-container-id-2 div.sk-toggleable__content pre {margin: 0.2em;color: black;border-radius: 0.25em;background-color: #f0f8ff;}#sk-container-id-2 input.sk-toggleable__control:checked~div.sk-toggleable__content {max-height: 200px;max-width: 100%;overflow: auto;}#sk-container-id-2 input.sk-toggleable__control:checked~label.sk-toggleable__label-arrow:before {content: \"▾\";}#sk-container-id-2 div.sk-estimator input.sk-toggleable__control:checked~label.sk-toggleable__label {background-color: #d4ebff;}#sk-container-id-2 div.sk-label input.sk-toggleable__control:checked~label.sk-toggleable__label {background-color: #d4ebff;}#sk-container-id-2 input.sk-hidden--visually {border: 0;clip: rect(1px 1px 1px 1px);clip: rect(1px, 1px, 1px, 1px);height: 1px;margin: -1px;overflow: hidden;padding: 0;position: absolute;width: 1px;}#sk-container-id-2 div.sk-estimator {font-family: monospace;background-color: #f0f8ff;border: 1px dotted black;border-radius: 0.25em;box-sizing: border-box;margin-bottom: 0.5em;}#sk-container-id-2 div.sk-estimator:hover {background-color: #d4ebff;}#sk-container-id-2 div.sk-parallel-item::after {content: \"\";width: 100%;border-bottom: 1px solid gray;flex-grow: 1;}#sk-container-id-2 div.sk-label:hover label.sk-toggleable__label {background-color: #d4ebff;}#sk-container-id-2 div.sk-serial::before {content: \"\";position: absolute;border-left: 1px solid gray;box-sizing: border-box;top: 0;bottom: 0;left: 50%;z-index: 0;}#sk-container-id-2 div.sk-serial {display: flex;flex-direction: column;align-items: center;background-color: white;padding-right: 0.2em;padding-left: 0.2em;position: relative;}#sk-container-id-2 div.sk-item {position: relative;z-index: 1;}#sk-container-id-2 div.sk-parallel {display: flex;align-items: stretch;justify-content: center;background-color: white;position: relative;}#sk-container-id-2 div.sk-item::before, #sk-container-id-2 div.sk-parallel-item::before {content: \"\";position: absolute;border-left: 1px solid gray;box-sizing: border-box;top: 0;bottom: 0;left: 50%;z-index: -1;}#sk-container-id-2 div.sk-parallel-item {display: flex;flex-direction: column;z-index: 1;position: relative;background-color: white;}#sk-container-id-2 div.sk-parallel-item:first-child::after {align-self: flex-end;width: 50%;}#sk-container-id-2 div.sk-parallel-item:last-child::after {align-self: flex-start;width: 50%;}#sk-container-id-2 div.sk-parallel-item:only-child::after {width: 0;}#sk-container-id-2 div.sk-dashed-wrapped {border: 1px dashed gray;margin: 0 0.4em 0.5em 0.4em;box-sizing: border-box;padding-bottom: 0.4em;background-color: white;}#sk-container-id-2 div.sk-label label {font-family: monospace;font-weight: bold;display: inline-block;line-height: 1.2em;}#sk-container-id-2 div.sk-label-container {text-align: center;}#sk-container-id-2 div.sk-container {/* jupyter's `normalize.less` sets `[hidden] { display: none; }` but bootstrap.min.css set `[hidden] { display: none !important; }` so we also need the `!important` here to be able to override the default hidden behavior on the sphinx rendered scikit-learn.org. See: https://github.com/scikit-learn/scikit-learn/issues/21755 */display: inline-block !important;position: relative;}#sk-container-id-2 div.sk-text-repr-fallback {display: none;}</style><div id=\"sk-container-id-2\" class=\"sk-top-container\"><div class=\"sk-text-repr-fallback\"><pre>GridSearchCV(cv=KFold(n_splits=5, random_state=42, shuffle=True),\n",
              "             estimator=MultinomialNB(), param_grid={&#x27;alpha&#x27;: [0.1, 0.5, 1.0]},\n",
              "             scoring=&#x27;accuracy&#x27;)</pre><b>In a Jupyter environment, please rerun this cell to show the HTML representation or trust the notebook. <br />On GitHub, the HTML representation is unable to render, please try loading this page with nbviewer.org.</b></div><div class=\"sk-container\" hidden><div class=\"sk-item sk-dashed-wrapped\"><div class=\"sk-label-container\"><div class=\"sk-label sk-toggleable\"><input class=\"sk-toggleable__control sk-hidden--visually\" id=\"sk-estimator-id-4\" type=\"checkbox\" ><label for=\"sk-estimator-id-4\" class=\"sk-toggleable__label sk-toggleable__label-arrow\">GridSearchCV</label><div class=\"sk-toggleable__content\"><pre>GridSearchCV(cv=KFold(n_splits=5, random_state=42, shuffle=True),\n",
              "             estimator=MultinomialNB(), param_grid={&#x27;alpha&#x27;: [0.1, 0.5, 1.0]},\n",
              "             scoring=&#x27;accuracy&#x27;)</pre></div></div></div><div class=\"sk-parallel\"><div class=\"sk-parallel-item\"><div class=\"sk-item\"><div class=\"sk-label-container\"><div class=\"sk-label sk-toggleable\"><input class=\"sk-toggleable__control sk-hidden--visually\" id=\"sk-estimator-id-5\" type=\"checkbox\" ><label for=\"sk-estimator-id-5\" class=\"sk-toggleable__label sk-toggleable__label-arrow\">estimator: MultinomialNB</label><div class=\"sk-toggleable__content\"><pre>MultinomialNB()</pre></div></div></div><div class=\"sk-serial\"><div class=\"sk-item\"><div class=\"sk-estimator sk-toggleable\"><input class=\"sk-toggleable__control sk-hidden--visually\" id=\"sk-estimator-id-6\" type=\"checkbox\" ><label for=\"sk-estimator-id-6\" class=\"sk-toggleable__label sk-toggleable__label-arrow\">MultinomialNB</label><div class=\"sk-toggleable__content\"><pre>MultinomialNB()</pre></div></div></div></div></div></div></div></div></div></div>"
            ]
          },
          "metadata": {},
          "execution_count": 11
        }
      ]
    },
    {
      "cell_type": "markdown",
      "source": [
        "Model Evaluation and Saving:\n"
      ],
      "metadata": {
        "id": "YwUfNLE8cg_4"
      }
    },
    {
      "cell_type": "code",
      "source": [
        "# Get the best model and its parameters\n",
        "best_model = grid_search.best_estimator_\n",
        "best_params = grid_search.best_params_\n",
        "\n",
        "# Train the best model\n",
        "best_model.fit(X_train_vectorized, y_train_encoded)\n",
        "\n",
        "# Make predictions on the test set\n",
        "y_pred = best_model.predict(X_test_vectorized)\n",
        "\n",
        "# Generate classification report and confusion matrix\n",
        "report = classification_report(y_test_encoded, y_pred)\n",
        "confusion = confusion_matrix(y_test_encoded, y_pred)\n",
        "\n",
        "# Print the classification report and confusion matrix\n",
        "print(\"Classification Report:\")\n",
        "print(report)\n",
        "print(\"Confusion Matrix:\")\n",
        "print(confusion)\n",
        "\n",
        "# Plot the confusion matrix\n",
        "plt.figure(figsize=(8, 6))\n",
        "plt.imshow(confusion, cmap='Blues')\n",
        "plt.title(\"Confusion Matrix\")\n",
        "plt.xlabel(\"Predicted Labels\")\n",
        "plt.ylabel(\"True Labels\")\n",
        "plt.xticks(np.arange(2), ['Class 0', 'Class 1'])\n",
        "plt.yticks(np.arange(2), ['Class 0', 'Class 1'])\n",
        "plt.colorbar()\n",
        "plt.show()\n",
        "\n",
        "# Export the trained model\n",
        "\n",
        "joblib.dump(best_model, \"naive_bayes_model.pkl\")\n",
        "print(\"Saved model to disk\")"
      ],
      "metadata": {
        "id": "a6gUzdLncf8u",
        "colab": {
          "base_uri": "https://localhost:8080/",
          "height": 807
        },
        "outputId": "f9e4ead1-96d1-4241-f97b-1a06e8edfe90"
      },
      "execution_count": 12,
      "outputs": [
        {
          "output_type": "stream",
          "name": "stdout",
          "text": [
            "Classification Report:\n",
            "              precision    recall  f1-score   support\n",
            "\n",
            "           0       0.99      1.00      0.99        66\n",
            "           1       1.00      0.96      0.98        26\n",
            "\n",
            "    accuracy                           0.99        92\n",
            "   macro avg       0.99      0.98      0.99        92\n",
            "weighted avg       0.99      0.99      0.99        92\n",
            "\n",
            "Confusion Matrix:\n",
            "[[66  0]\n",
            " [ 1 25]]\n"
          ]
        },
        {
          "output_type": "display_data",
          "data": {
            "text/plain": [
              "<Figure size 800x600 with 2 Axes>"
            ],
            "image/png": "[encoded data removed]"
          },
          "metadata": {}
        },
        {
          "output_type": "stream",
          "name": "stdout",
          "text": [
            "Saved model to disk\n"
          ]
        }
      ]
    },
    {
      "cell_type": "code",
      "source": [],
      "metadata": {
        "id": "LbC66TB75hkX"
      },
      "execution_count": 12,
      "outputs": []
    }
  ]
}